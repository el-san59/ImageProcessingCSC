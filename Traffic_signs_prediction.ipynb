{
 "cells": [
  {
   "cell_type": "markdown",
   "metadata": {},
   "source": [
    "# Image classification with Sift features"
   ]
  },
  {
   "cell_type": "code",
   "execution_count": 1,
   "metadata": {
    "collapsed": true
   },
   "outputs": [],
   "source": [
    "import cv2\n",
    "import numpy as np\n",
    "import pandas as pd\n",
    "import glob\n",
    "import os\n",
    "from sklearn.cluster import MiniBatchKMeans\n",
    "import scipy.cluster.vq as vq\n",
    "from sklearn import svm\n",
    "import random\n",
    "import os.path\n",
    "from tqdm import tqdm\n",
    "from skimage import transform\n",
    "\n",
    "import matplotlib.pyplot as plt\n",
    "%matplotlib inline"
   ]
  },
  {
   "cell_type": "code",
   "execution_count": 2,
   "metadata": {
    "collapsed": true
   },
   "outputs": [],
   "source": [
    "train_data_dir = 'dataset/train/'\n",
    "test_data_dir = 'dataset/test/'\n",
    "df = pd.DataFrame.from_csv(\"dataset/gt_train.csv\")\n",
    "df.set_index = 'filename'"
   ]
  },
  {
   "cell_type": "markdown",
   "metadata": {},
   "source": [
    "### Class distribution"
   ]
  },
  {
   "cell_type": "code",
   "execution_count": 3,
   "metadata": {},
   "outputs": [
    {
     "data": {
      "text/plain": [
       "<matplotlib.axes._subplots.AxesSubplot at 0x7f116c81ba90>"
      ]
     },
     "execution_count": 3,
     "metadata": {},
     "output_type": "execute_result"
    },
    {
     "data": {
      "image/png": "[encoded data removed]",
      "text/plain": [
       "<matplotlib.figure.Figure at 0x7f11b0d06860>"
      ]
     },
     "metadata": {},
     "output_type": "display_data"
    }
   ],
   "source": [
    "counts = df[\"class_number\"].value_counts()\n",
    "counts.plot.bar(figsize=(10,10))\n"
   ]
  },
  {
   "cell_type": "markdown",
   "metadata": {},
   "source": [
    "### Data augmentation"
   ]
  },
  {
   "cell_type": "code",
   "execution_count": 4,
   "metadata": {},
   "outputs": [
    {
     "name": "stderr",
     "output_type": "stream",
     "text": [
      "100%|██████████| 67/67 [03:31<00:00,  3.16s/it]"
     ]
    },
    {
     "name": "stdout",
     "output_type": "stream",
     "text": [
      "167500 167500\n"
     ]
    },
    {
     "name": "stderr",
     "output_type": "stream",
     "text": [
      "\n"
     ]
    }
   ],
   "source": [
    "import warnings; warnings.simplefilter('ignore')\n",
    "\n",
    "imgs = []\n",
    "correct_labels = []\n",
    "n = 2500\n",
    "for i in tqdm(range(67)):\n",
    "    names_class_i = list(df[df[\"class_number\"] == i].index)\n",
    "    if len(names_class_i) > n:\n",
    "        names_class_i = random.sample(names_class_i, n)\n",
    "        imgs += [cv2.imread(train_data_dir+name) for name in names_class_i]\n",
    "        correct_labels += [i]*n\n",
    "    else:\n",
    "        class_imgs = [cv2.imread(train_data_dir+name) for name in names_class_i]\n",
    "        augm_imgs = []\n",
    "        while (len(augm_imgs) + len(class_imgs))< n:\n",
    "            for class_img in class_imgs:\n",
    "                img1 = transform.rotate(class_img, random.uniform(-5, 5), mode='symmetric') * 255\n",
    "                img2 = transform.pyramid_reduce(class_img, sigma=random.uniform(0, 1)) * 255\n",
    "                img3 = transform.pyramid_expand(class_img, sigma=random.uniform(0, 1)) * 255\n",
    "                img4 = transform.rescale(class_img, random.uniform(0.9, 1)) * 255\n",
    "                augm_imgs += [img1.astype(np.uint8), img2.astype(np.uint8), img3.astype(np.uint8), img4.astype(np.uint8)]\n",
    "        imgs += class_imgs\n",
    "        imgs += random.sample(augm_imgs, n-len(class_imgs))\n",
    "        correct_labels += [i]*n\n",
    "        \n",
    "print(len(correct_labels), len(imgs))"
   ]
  },
  {
   "cell_type": "markdown",
   "metadata": {},
   "source": [
    "### Build SIFT descriptors"
   ]
  },
  {
   "cell_type": "code",
   "execution_count": 5,
   "metadata": {
    "collapsed": true
   },
   "outputs": [],
   "source": [
    "sift = cv2.xfeatures2d.SIFT_create(contrastThreshold=0.02)\n",
    "num_clusters = 150\n",
    "kmeans = MiniBatchKMeans(n_clusters=num_clusters, batch_size=100, max_iter=250)"
   ]
  },
  {
   "cell_type": "code",
   "execution_count": 6,
   "metadata": {
    "collapsed": true
   },
   "outputs": [],
   "source": [
    "def get_sift_descriptors(img):\n",
    "    kp, desc =  sift.detectAndCompute(img, None)\n",
    "    if desc is None:\n",
    "        print(False)\n",
    "        return None\n",
    "    num_elems = min(100, len(desc))\n",
    "    return random.sample(list(desc), num_elems)\n",
    "\n",
    "def build_dataset(list_of_images):\n",
    "    image_to_descriptors = []\n",
    "    for i, image in zip(tqdm(range(len(list_of_images))), list_of_images):\n",
    "        image_to_descriptors.append(get_sift_descriptors(image))\n",
    "    return image_to_descriptors"
   ]
  },
  {
   "cell_type": "code",
   "execution_count": 7,
   "metadata": {},
   "outputs": [
    {
     "name": "stderr",
     "output_type": "stream",
     "text": [
      " 14%|█▍        | 24007/167500 [01:05<06:33, 364.58it/s]"
     ]
    },
    {
     "name": "stdout",
     "output_type": "stream",
     "text": [
      "False\n"
     ]
    },
    {
     "name": "stderr",
     "output_type": "stream",
     "text": [
      " 18%|█▊        | 30532/167500 [01:26<06:26, 354.82it/s]"
     ]
    },
    {
     "name": "stdout",
     "output_type": "stream",
     "text": [
      "False\n"
     ]
    },
    {
     "name": "stderr",
     "output_type": "stream",
     "text": [
      " 26%|██▌       | 43246/167500 [02:05<05:59, 345.72it/s]"
     ]
    },
    {
     "name": "stdout",
     "output_type": "stream",
     "text": [
      "False\n"
     ]
    },
    {
     "name": "stderr",
     "output_type": "stream",
     "text": [
      " 26%|██▋       | 44320/167500 [02:08<05:56, 345.89it/s]"
     ]
    },
    {
     "name": "stdout",
     "output_type": "stream",
     "text": [
      "False\n"
     ]
    },
    {
     "name": "stderr",
     "output_type": "stream",
     "text": [
      " 27%|██▋       | 44604/167500 [02:08<05:55, 346.07it/s]"
     ]
    },
    {
     "name": "stdout",
     "output_type": "stream",
     "text": [
      "False\n"
     ]
    },
    {
     "name": "stderr",
     "output_type": "stream",
     "text": [
      " 29%|██▉       | 48704/167500 [02:21<05:44, 344.50it/s]"
     ]
    },
    {
     "name": "stdout",
     "output_type": "stream",
     "text": [
      "False\n"
     ]
    },
    {
     "name": "stderr",
     "output_type": "stream",
     "text": [
      " 41%|████      | 68452/167500 [03:14<04:41, 352.20it/s]"
     ]
    },
    {
     "name": "stdout",
     "output_type": "stream",
     "text": [
      "False\n"
     ]
    },
    {
     "name": "stderr",
     "output_type": "stream",
     "text": [
      " 41%|████▏     | 69360/167500 [03:17<04:38, 351.88it/s]"
     ]
    },
    {
     "name": "stdout",
     "output_type": "stream",
     "text": [
      "False\n"
     ]
    },
    {
     "name": "stderr",
     "output_type": "stream",
     "text": [
      " 44%|████▍     | 73755/167500 [03:26<04:22, 357.25it/s]"
     ]
    },
    {
     "name": "stdout",
     "output_type": "stream",
     "text": [
      "False\n"
     ]
    },
    {
     "name": "stderr",
     "output_type": "stream",
     "text": [
      " 45%|████▍     | 74600/167500 [03:28<04:19, 358.36it/s]"
     ]
    },
    {
     "name": "stdout",
     "output_type": "stream",
     "text": [
      "False\n"
     ]
    },
    {
     "name": "stderr",
     "output_type": "stream",
     "text": [
      " 55%|█████▌    | 92774/167500 [04:16<03:26, 361.20it/s]"
     ]
    },
    {
     "name": "stdout",
     "output_type": "stream",
     "text": [
      "False\n"
     ]
    },
    {
     "name": "stderr",
     "output_type": "stream",
     "text": [
      " 56%|█████▌    | 93163/167500 [04:17<03:25, 361.71it/s]"
     ]
    },
    {
     "name": "stdout",
     "output_type": "stream",
     "text": [
      "False\n",
      "False\n"
     ]
    },
    {
     "name": "stderr",
     "output_type": "stream",
     "text": [
      " 56%|█████▌    | 93666/167500 [04:18<03:23, 362.27it/s]"
     ]
    },
    {
     "name": "stdout",
     "output_type": "stream",
     "text": [
      "False\n"
     ]
    },
    {
     "name": "stderr",
     "output_type": "stream",
     "text": [
      " 56%|█████▌    | 93983/167500 [04:19<03:22, 362.61it/s]"
     ]
    },
    {
     "name": "stdout",
     "output_type": "stream",
     "text": [
      "False\n"
     ]
    },
    {
     "name": "stderr",
     "output_type": "stream",
     "text": [
      " 56%|█████▌    | 94148/167500 [04:19<03:22, 362.82it/s]"
     ]
    },
    {
     "name": "stdout",
     "output_type": "stream",
     "text": [
      "False\n"
     ]
    },
    {
     "name": "stderr",
     "output_type": "stream",
     "text": [
      " 57%|█████▋    | 94718/167500 [04:20<03:20, 363.51it/s]"
     ]
    },
    {
     "name": "stdout",
     "output_type": "stream",
     "text": [
      "False\n"
     ]
    },
    {
     "name": "stderr",
     "output_type": "stream",
     "text": [
      " 58%|█████▊    | 96650/167500 [04:24<03:13, 365.40it/s]"
     ]
    },
    {
     "name": "stdout",
     "output_type": "stream",
     "text": [
      "False\n"
     ]
    },
    {
     "name": "stderr",
     "output_type": "stream",
     "text": [
      " 58%|█████▊    | 97871/167500 [04:27<03:10, 365.83it/s]"
     ]
    },
    {
     "name": "stdout",
     "output_type": "stream",
     "text": [
      "False\n",
      "False\n"
     ]
    },
    {
     "name": "stderr",
     "output_type": "stream",
     "text": [
      " 59%|█████▊    | 98052/167500 [04:27<03:09, 365.93it/s]"
     ]
    },
    {
     "name": "stdout",
     "output_type": "stream",
     "text": [
      "False\n",
      "False\n"
     ]
    },
    {
     "name": "stderr",
     "output_type": "stream",
     "text": [
      " 59%|█████▊    | 98187/167500 [04:28<03:09, 366.00it/s]"
     ]
    },
    {
     "name": "stdout",
     "output_type": "stream",
     "text": [
      "False\n"
     ]
    },
    {
     "name": "stderr",
     "output_type": "stream",
     "text": [
      " 59%|█████▉    | 98439/167500 [04:28<03:08, 366.01it/s]"
     ]
    },
    {
     "name": "stdout",
     "output_type": "stream",
     "text": [
      "False\n"
     ]
    },
    {
     "name": "stderr",
     "output_type": "stream",
     "text": [
      " 59%|█████▉    | 98685/167500 [04:29<03:08, 365.83it/s]"
     ]
    },
    {
     "name": "stdout",
     "output_type": "stream",
     "text": [
      "False\n"
     ]
    },
    {
     "name": "stderr",
     "output_type": "stream",
     "text": [
      " 59%|█████▉    | 99302/167500 [04:31<03:06, 365.96it/s]"
     ]
    },
    {
     "name": "stdout",
     "output_type": "stream",
     "text": [
      "False\n"
     ]
    },
    {
     "name": "stderr",
     "output_type": "stream",
     "text": [
      " 59%|█████▉    | 99377/167500 [04:31<03:06, 365.82it/s]"
     ]
    },
    {
     "name": "stdout",
     "output_type": "stream",
     "text": [
      "False\n"
     ]
    },
    {
     "name": "stderr",
     "output_type": "stream",
     "text": [
      " 59%|█████▉    | 99501/167500 [04:32<03:05, 365.65it/s]"
     ]
    },
    {
     "name": "stdout",
     "output_type": "stream",
     "text": [
      "False\n"
     ]
    },
    {
     "name": "stderr",
     "output_type": "stream",
     "text": [
      " 59%|█████▉    | 99576/167500 [04:32<03:05, 365.66it/s]"
     ]
    },
    {
     "name": "stdout",
     "output_type": "stream",
     "text": [
      "False\n",
      "False\n"
     ]
    },
    {
     "name": "stderr",
     "output_type": "stream",
     "text": [
      " 60%|█████▉    | 99838/167500 [04:33<03:05, 365.64it/s]"
     ]
    },
    {
     "name": "stdout",
     "output_type": "stream",
     "text": [
      "False\n"
     ]
    },
    {
     "name": "stderr",
     "output_type": "stream",
     "text": [
      " 60%|█████▉    | 100039/167500 [04:33<03:04, 365.55it/s]"
     ]
    },
    {
     "name": "stdout",
     "output_type": "stream",
     "text": [
      "False\n",
      "False\n"
     ]
    },
    {
     "name": "stderr",
     "output_type": "stream",
     "text": [
      " 61%|██████    | 101854/167500 [04:38<02:59, 365.58it/s]"
     ]
    },
    {
     "name": "stdout",
     "output_type": "stream",
     "text": [
      "False\n"
     ]
    },
    {
     "name": "stderr",
     "output_type": "stream",
     "text": [
      " 61%|██████▏   | 102840/167500 [04:41<02:56, 365.88it/s]"
     ]
    },
    {
     "name": "stdout",
     "output_type": "stream",
     "text": [
      "False\n",
      "False\n"
     ]
    },
    {
     "name": "stderr",
     "output_type": "stream",
     "text": [
      " 62%|██████▏   | 103357/167500 [04:42<02:55, 366.01it/s]"
     ]
    },
    {
     "name": "stdout",
     "output_type": "stream",
     "text": [
      "False\n"
     ]
    },
    {
     "name": "stderr",
     "output_type": "stream",
     "text": [
      " 62%|██████▏   | 103429/167500 [04:42<02:55, 365.99it/s]"
     ]
    },
    {
     "name": "stdout",
     "output_type": "stream",
     "text": [
      "False\n"
     ]
    },
    {
     "name": "stderr",
     "output_type": "stream",
     "text": [
      " 62%|██████▏   | 104174/167500 [04:44<02:53, 366.01it/s]"
     ]
    },
    {
     "name": "stdout",
     "output_type": "stream",
     "text": [
      "False\n",
      "False\n"
     ]
    },
    {
     "name": "stderr",
     "output_type": "stream",
     "text": [
      " 62%|██████▏   | 104672/167500 [04:45<02:51, 366.28it/s]"
     ]
    },
    {
     "name": "stdout",
     "output_type": "stream",
     "text": [
      "False\n"
     ]
    },
    {
     "name": "stderr",
     "output_type": "stream",
     "text": [
      " 63%|██████▎   | 104868/167500 [04:46<02:51, 366.25it/s]"
     ]
    },
    {
     "name": "stdout",
     "output_type": "stream",
     "text": [
      "False\n"
     ]
    },
    {
     "name": "stderr",
     "output_type": "stream",
     "text": [
      " 65%|██████▍   | 108586/167500 [04:55<02:40, 367.26it/s]"
     ]
    },
    {
     "name": "stdout",
     "output_type": "stream",
     "text": [
      "False\n"
     ]
    },
    {
     "name": "stderr",
     "output_type": "stream",
     "text": [
      " 65%|██████▌   | 108894/167500 [04:56<02:39, 367.33it/s]"
     ]
    },
    {
     "name": "stdout",
     "output_type": "stream",
     "text": [
      "False\n"
     ]
    },
    {
     "name": "stderr",
     "output_type": "stream",
     "text": [
      " 65%|██████▌   | 109272/167500 [04:57<02:38, 367.43it/s]"
     ]
    },
    {
     "name": "stdout",
     "output_type": "stream",
     "text": [
      "False\n",
      "False\n",
      "False\n"
     ]
    },
    {
     "name": "stderr",
     "output_type": "stream",
     "text": [
      " 66%|██████▌   | 109822/167500 [04:58<02:36, 367.73it/s]"
     ]
    },
    {
     "name": "stdout",
     "output_type": "stream",
     "text": [
      "False\n"
     ]
    },
    {
     "name": "stderr",
     "output_type": "stream",
     "text": [
      " 66%|██████▌   | 109955/167500 [04:58<02:36, 367.78it/s]"
     ]
    },
    {
     "name": "stdout",
     "output_type": "stream",
     "text": [
      "False\n"
     ]
    },
    {
     "name": "stderr",
     "output_type": "stream",
     "text": [
      " 66%|██████▌   | 110045/167500 [04:59<02:36, 367.80it/s]"
     ]
    },
    {
     "name": "stdout",
     "output_type": "stream",
     "text": [
      "False\n"
     ]
    },
    {
     "name": "stderr",
     "output_type": "stream",
     "text": [
      " 69%|██████▉   | 115575/167500 [05:12<02:20, 369.58it/s]"
     ]
    },
    {
     "name": "stdout",
     "output_type": "stream",
     "text": [
      "False\n"
     ]
    },
    {
     "name": "stderr",
     "output_type": "stream",
     "text": [
      " 70%|██████▉   | 116642/167500 [05:15<02:17, 370.23it/s]"
     ]
    },
    {
     "name": "stdout",
     "output_type": "stream",
     "text": [
      "False\n",
      "False\n",
      "False\n"
     ]
    },
    {
     "name": "stderr",
     "output_type": "stream",
     "text": [
      " 70%|███████   | 117500/167500 [05:16<02:14, 370.72it/s]"
     ]
    },
    {
     "name": "stdout",
     "output_type": "stream",
     "text": [
      "False\n"
     ]
    },
    {
     "name": "stderr",
     "output_type": "stream",
     "text": [
      " 70%|███████   | 118013/167500 [05:18<02:13, 370.34it/s]"
     ]
    },
    {
     "name": "stdout",
     "output_type": "stream",
     "text": [
      "False\n"
     ]
    },
    {
     "name": "stderr",
     "output_type": "stream",
     "text": [
      " 71%|███████   | 118276/167500 [05:19<02:12, 370.32it/s]"
     ]
    },
    {
     "name": "stdout",
     "output_type": "stream",
     "text": [
      "False\n"
     ]
    },
    {
     "name": "stderr",
     "output_type": "stream",
     "text": [
      " 71%|███████   | 118450/167500 [05:19<02:12, 370.38it/s]"
     ]
    },
    {
     "name": "stdout",
     "output_type": "stream",
     "text": [
      "False\n"
     ]
    },
    {
     "name": "stderr",
     "output_type": "stream",
     "text": [
      " 71%|███████   | 118572/167500 [05:20<02:12, 370.38it/s]"
     ]
    },
    {
     "name": "stdout",
     "output_type": "stream",
     "text": [
      "False\n"
     ]
    },
    {
     "name": "stderr",
     "output_type": "stream",
     "text": [
      " 71%|███████   | 118688/167500 [05:20<02:11, 370.35it/s]"
     ]
    },
    {
     "name": "stdout",
     "output_type": "stream",
     "text": [
      "False\n"
     ]
    },
    {
     "name": "stderr",
     "output_type": "stream",
     "text": [
      " 71%|███████▏  | 119740/167500 [05:23<02:09, 369.82it/s]"
     ]
    },
    {
     "name": "stdout",
     "output_type": "stream",
     "text": [
      "False\n"
     ]
    },
    {
     "name": "stderr",
     "output_type": "stream",
     "text": [
      " 74%|███████▎  | 123180/167500 [05:34<02:00, 368.38it/s]"
     ]
    },
    {
     "name": "stdout",
     "output_type": "stream",
     "text": [
      "False\n"
     ]
    },
    {
     "name": "stderr",
     "output_type": "stream",
     "text": [
      " 78%|███████▊  | 130848/167500 [05:52<01:38, 371.21it/s]"
     ]
    },
    {
     "name": "stdout",
     "output_type": "stream",
     "text": [
      "False\n"
     ]
    },
    {
     "name": "stderr",
     "output_type": "stream",
     "text": [
      " 78%|███████▊  | 131457/167500 [05:53<01:37, 371.49it/s]"
     ]
    },
    {
     "name": "stdout",
     "output_type": "stream",
     "text": [
      "False\n"
     ]
    },
    {
     "name": "stderr",
     "output_type": "stream",
     "text": [
      " 79%|███████▉  | 131943/167500 [05:54<01:35, 371.76it/s]"
     ]
    },
    {
     "name": "stdout",
     "output_type": "stream",
     "text": [
      "False\n"
     ]
    },
    {
     "name": "stderr",
     "output_type": "stream",
     "text": [
      " 80%|████████  | 134220/167500 [05:59<01:29, 373.34it/s]"
     ]
    },
    {
     "name": "stdout",
     "output_type": "stream",
     "text": [
      "False\n"
     ]
    },
    {
     "name": "stderr",
     "output_type": "stream",
     "text": [
      " 96%|█████████▋| 161403/167500 [06:57<00:15, 386.71it/s]"
     ]
    },
    {
     "name": "stdout",
     "output_type": "stream",
     "text": [
      "False\n"
     ]
    },
    {
     "name": "stderr",
     "output_type": "stream",
     "text": [
      "100%|██████████| 167500/167500 [07:12<00:00, 387.72it/s]\n"
     ]
    }
   ],
   "source": [
    "image_to_descriptors = build_dataset(imgs)"
   ]
  },
  {
   "cell_type": "code",
   "execution_count": 8,
   "metadata": {
    "collapsed": true
   },
   "outputs": [],
   "source": [
    "indexes = [i for i, desc in enumerate(image_to_descriptors) if desc is None]\n",
    "image_to_descriptors = [desc for i, desc in enumerate(image_to_descriptors) if i not in indexes]\n",
    "correct_labels = [cl for i, cl in enumerate(correct_labels) if i not in indexes]\n",
    "list_of_sift_descriptors = np.vstack(image_to_descriptors)"
   ]
  },
  {
   "cell_type": "code",
   "execution_count": 9,
   "metadata": {},
   "outputs": [
    {
     "name": "stdout",
     "output_type": "stream",
     "text": [
      "167433 167433\n"
     ]
    }
   ],
   "source": [
    "print(len(image_to_descriptors), len(correct_labels))"
   ]
  },
  {
   "cell_type": "markdown",
   "metadata": {},
   "source": [
    "### Clustering"
   ]
  },
  {
   "cell_type": "code",
   "execution_count": 10,
   "metadata": {},
   "outputs": [
    {
     "name": "stdout",
     "output_type": "stream",
     "text": [
      "Min: 2.501546895503998\n"
     ]
    }
   ],
   "source": [
    "from time import time\n",
    "t0 = time()\n",
    "kmeans.fit(list_of_sift_descriptors)\n",
    "print('Min:', (time()-t0)/60)"
   ]
  },
  {
   "cell_type": "markdown",
   "metadata": {},
   "source": [
    "### Build histograms"
   ]
  },
  {
   "cell_type": "code",
   "execution_count": 12,
   "metadata": {},
   "outputs": [
    {
     "name": "stderr",
     "output_type": "stream",
     "text": [
      "100%|██████████| 167433/167433 [01:43<00:00, 1612.76it/s]\n"
     ]
    }
   ],
   "source": [
    "def create_histogram(labels):\n",
    "    hist, edges = np.histogram(labels, bins=range(num_clusters), normed=True)\n",
    "    return hist\n",
    "\n",
    "all_image_histograms = []\n",
    "for i, desc in zip(tqdm(range(len(image_to_descriptors))), image_to_descriptors):\n",
    "    labels = kmeans.predict(desc)\n",
    "    all_image_histograms.append(create_histogram(labels))"
   ]
  },
  {
   "cell_type": "markdown",
   "metadata": {},
   "source": [
    "### Image classification"
   ]
  },
  {
   "cell_type": "code",
   "execution_count": 13,
   "metadata": {},
   "outputs": [
    {
     "name": "stdout",
     "output_type": "stream",
     "text": [
      "Min: 28.17061810096105\n"
     ]
    }
   ],
   "source": [
    "from time import time\n",
    "from sklearn.neural_network import MLPClassifier\n",
    "\n",
    "t0 = time()\n",
    "classifier = MLPClassifier(hidden_layer_sizes=(200,100,))\n",
    "classifier.fit(all_image_histograms, correct_labels)\n",
    "print('Min:', (time()-t0)/60)"
   ]
  },
  {
   "cell_type": "code",
   "execution_count": 14,
   "metadata": {},
   "outputs": [
    {
     "name": "stderr",
     "output_type": "stream",
     "text": [
      "100%|██████████| 167433/167433 [00:27<00:00, 6156.41it/s]\n"
     ]
    }
   ],
   "source": [
    "def classify_images(svm, all_image_histograms):\n",
    "    labels = []\n",
    "    for i, target_hist in zip(tqdm(range(len(all_image_histograms))), all_image_histograms):\n",
    "        labels.append(classifier.predict([target_hist]))\n",
    "        \n",
    "    return labels\n",
    "\n",
    "def test_classification(predicted_labels, trained_labels):\n",
    "    total_correct = 0\n",
    "    for elem1, elem2 in zip(predicted_labels, trained_labels):\n",
    "        if elem1[0] == elem2:\n",
    "            total_correct += 1\n",
    "    return total_correct / len(predicted_labels)\n",
    "\n",
    "predicted_labels = classify_images(classifier, all_image_histograms)\n",
    "trained_labels = correct_labels"
   ]
  },
  {
   "cell_type": "code",
   "execution_count": 15,
   "metadata": {},
   "outputs": [
    {
     "name": "stdout",
     "output_type": "stream",
     "text": [
      "Train accurasy: 0.9361535659039736\n"
     ]
    }
   ],
   "source": [
    "accuracy = test_classification(predicted_labels, trained_labels)\n",
    "print(\"Train accurasy:\", accuracy)"
   ]
  },
  {
   "cell_type": "markdown",
   "metadata": {},
   "source": [
    "### Predict test images"
   ]
  },
  {
   "cell_type": "code",
   "execution_count": 16,
   "metadata": {},
   "outputs": [
    {
     "name": "stderr",
     "output_type": "stream",
     "text": [
      " 18%|█▊        | 1378/7551 [00:04<00:21, 290.36it/s]"
     ]
    },
    {
     "name": "stdout",
     "output_type": "stream",
     "text": [
      "False\n"
     ]
    },
    {
     "name": "stderr",
     "output_type": "stream",
     "text": [
      "100%|██████████| 7551/7551 [00:27<00:00, 270.85it/s]\n"
     ]
    }
   ],
   "source": [
    "test_paths = [test_data_dir+x for x in sorted(os.listdir(test_data_dir))]\n",
    "test_images = []\n",
    "for path in test_paths:\n",
    "    test_image = cv2.imread(path)\n",
    "    test_images.append(test_image)\n",
    "test_images = np.array(test_images)\n",
    "\n",
    "labels = []\n",
    "for i, test_image in zip(tqdm(range(len(test_images))), test_images):\n",
    "    desc = get_sift_descriptors(test_image)\n",
    "    if desc:\n",
    "        target_hist = create_histogram((kmeans.predict(desc)))\n",
    "    else:\n",
    "        target_hist = np.zeros_like(target_hist)\n",
    "    labels.append(classifier.predict([target_hist]))"
   ]
  },
  {
   "cell_type": "code",
   "execution_count": 17,
   "metadata": {},
   "outputs": [
    {
     "name": "stdout",
     "output_type": "stream",
     "text": [
      "7551 7551\n"
     ]
    }
   ],
   "source": [
    "answers = [x[0] for x in labels]\n",
    "print(len(answers), len(test_paths))"
   ]
  },
  {
   "cell_type": "code",
   "execution_count": 18,
   "metadata": {},
   "outputs": [
    {
     "data": {
      "text/html": [
       "<div>\n",
       "<style>\n",
       "    .dataframe thead tr:only-child th {\n",
       "        text-align: right;\n",
       "    }\n",
       "\n",
       "    .dataframe thead th {\n",
       "        text-align: left;\n",
       "    }\n",
       "\n",
       "    .dataframe tbody tr th {\n",
       "        vertical-align: top;\n",
       "    }\n",
       "</style>\n",
       "<table border=\"1\" class=\"dataframe\">\n",
       "  <thead>\n",
       "    <tr style=\"text-align: right;\">\n",
       "      <th></th>\n",
       "      <th>class_number</th>\n",
       "    </tr>\n",
       "    <tr>\n",
       "      <th>filename</th>\n",
       "      <th></th>\n",
       "    </tr>\n",
       "  </thead>\n",
       "  <tbody>\n",
       "    <tr>\n",
       "      <th>000000.png</th>\n",
       "      <td>66</td>\n",
       "    </tr>\n",
       "    <tr>\n",
       "      <th>000001.png</th>\n",
       "      <td>56</td>\n",
       "    </tr>\n",
       "    <tr>\n",
       "      <th>000002.png</th>\n",
       "      <td>22</td>\n",
       "    </tr>\n",
       "    <tr>\n",
       "      <th>000003.png</th>\n",
       "      <td>9</td>\n",
       "    </tr>\n",
       "    <tr>\n",
       "      <th>000004.png</th>\n",
       "      <td>2</td>\n",
       "    </tr>\n",
       "  </tbody>\n",
       "</table>\n",
       "</div>"
      ],
      "text/plain": [
       "            class_number\n",
       "filename                \n",
       "000000.png            66\n",
       "000001.png            56\n",
       "000002.png            22\n",
       "000003.png             9\n",
       "000004.png             2"
      ]
     },
     "execution_count": 18,
     "metadata": {},
     "output_type": "execute_result"
    }
   ],
   "source": [
    "data = list(zip(sorted(os.listdir(test_data_dir)), answers))\n",
    "df_res = pd.DataFrame(data, columns=[\"filename\",\"class_number\"])\n",
    "df_res = df_res.set_index('filename')\n",
    "\n",
    "df_res.to_csv(\"1_classic.csv\")\n",
    "df_res.head()"
   ]
  },
  {
   "cell_type": "markdown",
   "metadata": {},
   "source": [
    "# Image Classification With NN"
   ]
  },
  {
   "cell_type": "code",
   "execution_count": 19,
   "metadata": {},
   "outputs": [
    {
     "name": "stderr",
     "output_type": "stream",
     "text": [
      "Using TensorFlow backend.\n"
     ]
    }
   ],
   "source": [
    "from keras.preprocessing.image import ImageDataGenerator\n",
    "from keras.models import Sequential\n",
    "from keras.layers import Conv2D, MaxPooling2D\n",
    "from keras.layers import Activation, Dropout, Flatten, Dense\n",
    "from keras import backend as K\n",
    "from keras.utils import np_utils\n",
    "from sklearn.model_selection import train_test_split\n",
    "import numpy as np\n",
    "import pandas as pd\n",
    "import seaborn as sns\n",
    "import cv2\n",
    "import os"
   ]
  },
  {
   "cell_type": "code",
   "execution_count": 20,
   "metadata": {},
   "outputs": [
    {
     "name": "stdout",
     "output_type": "stream",
     "text": [
      "25432 7551\n"
     ]
    }
   ],
   "source": [
    "img_width, img_height = 48, 48\n",
    "input_shape = (img_width, img_height, 3)\n",
    "\n",
    "train_data_dir = 'dataset/train/'\n",
    "test_data_dir = 'dataset/test/'\n",
    "nb_train_samples = len(os.listdir(train_data_dir))\n",
    "nb_test_samples = len(os.listdir(test_data_dir))\n",
    "epochs = 10\n",
    "batch_size = 16\n",
    "num_classes = 67\n",
    "print(nb_train_samples, nb_test_samples)"
   ]
  },
  {
   "cell_type": "code",
   "execution_count": 21,
   "metadata": {
    "collapsed": true
   },
   "outputs": [],
   "source": [
    "img_paths = sorted([train_data_dir + x for x in os.listdir(train_data_dir)])\n",
    "X = []\n",
    "for path in img_paths:\n",
    "    X.append(cv2.imread(path))\n",
    "X = np.array(X)\n",
    "y = df[\"class_number\"].as_matrix()"
   ]
  },
  {
   "cell_type": "code",
   "execution_count": 22,
   "metadata": {},
   "outputs": [
    {
     "name": "stdout",
     "output_type": "stream",
     "text": [
      "(128, 48, 48, 3)\n",
      "(128, 67)\n"
     ]
    }
   ],
   "source": [
    "X_train, X_validation, y_train, y_validation = train_test_split(X, y, test_size=0.005)\n",
    "y_train = np_utils.to_categorical(y_train.reshape((-1, 1)), num_classes)\n",
    "y_validation = np_utils.to_categorical(y_validation.reshape((-1, 1)), num_classes)\n",
    "\n",
    "print(X_validation.shape)\n",
    "print(y_validation.shape)"
   ]
  },
  {
   "cell_type": "markdown",
   "metadata": {},
   "source": [
    "### Define the model"
   ]
  },
  {
   "cell_type": "code",
   "execution_count": 23,
   "metadata": {},
   "outputs": [
    {
     "name": "stdout",
     "output_type": "stream",
     "text": [
      "_________________________________________________________________\n",
      "Layer (type)                 Output Shape              Param #   \n",
      "=================================================================\n",
      "conv2d_1 (Conv2D)            (None, 46, 46, 32)        896       \n",
      "_________________________________________________________________\n",
      "activation_1 (Activation)    (None, 46, 46, 32)        0         \n",
      "_________________________________________________________________\n",
      "max_pooling2d_1 (MaxPooling2 (None, 23, 23, 32)        0         \n",
      "_________________________________________________________________\n",
      "conv2d_2 (Conv2D)            (None, 21, 21, 64)        18496     \n",
      "_________________________________________________________________\n",
      "activation_2 (Activation)    (None, 21, 21, 64)        0         \n",
      "_________________________________________________________________\n",
      "max_pooling2d_2 (MaxPooling2 (None, 10, 10, 64)        0         \n",
      "_________________________________________________________________\n",
      "flatten_1 (Flatten)          (None, 6400)              0         \n",
      "_________________________________________________________________\n",
      "dense_1 (Dense)              (None, 1024)              6554624   \n",
      "_________________________________________________________________\n",
      "activation_3 (Activation)    (None, 1024)              0         \n",
      "_________________________________________________________________\n",
      "dense_2 (Dense)              (None, 67)                68675     \n",
      "_________________________________________________________________\n",
      "activation_4 (Activation)    (None, 67)                0         \n",
      "=================================================================\n",
      "Total params: 6,642,691\n",
      "Trainable params: 6,642,691\n",
      "Non-trainable params: 0\n",
      "_________________________________________________________________\n"
     ]
    }
   ],
   "source": [
    "model = Sequential()\n",
    "model.add(Conv2D(32, (3, 3), input_shape=input_shape))\n",
    "model.add(Activation('relu'))\n",
    "model.add(MaxPooling2D(pool_size=(2, 2)))\n",
    "\n",
    "model.add(Conv2D(64, (3, 3)))\n",
    "model.add(Activation('relu'))\n",
    "model.add(MaxPooling2D(pool_size=(2, 2)))\n",
    "\n",
    "model.add(Flatten())\n",
    "model.add(Dense(1024))\n",
    "model.add(Activation('relu'))\n",
    "model.add(Dense(67))\n",
    "model.add(Activation('softmax'))\n",
    "model.summary()"
   ]
  },
  {
   "cell_type": "code",
   "execution_count": 24,
   "metadata": {
    "collapsed": true
   },
   "outputs": [],
   "source": [
    "model.compile(loss='binary_crossentropy', optimizer='rmsprop', metrics=['accuracy'])"
   ]
  },
  {
   "cell_type": "markdown",
   "metadata": {},
   "source": [
    "### Define Image Data Generator for train and test"
   ]
  },
  {
   "cell_type": "code",
   "execution_count": 25,
   "metadata": {
    "collapsed": true
   },
   "outputs": [],
   "source": [
    "train_datagen = ImageDataGenerator(\n",
    "    rotation_range=0.05,\n",
    "    rescale=1. / 255,\n",
    "    shear_range=0.1,\n",
    "    zoom_range=0.1,\n",
    "    height_shift_range = 0.1,\n",
    "    width_shift_range = 0.1,\n",
    "    fill_mode=\"nearest\",\n",
    "    )\n",
    "\n",
    "test_datagen = ImageDataGenerator(rescale=1. / 255)\n",
    "\n",
    "train_generator = train_datagen.flow(\n",
    "    x=X_train,\n",
    "    y=y_train,\n",
    "    batch_size=batch_size,\n",
    "    )\n",
    "\n",
    "validation_generator = test_datagen.flow(\n",
    "    x=X_validation,\n",
    "    y=y_validation,\n",
    "    batch_size=batch_size,\n",
    "    )"
   ]
  },
  {
   "cell_type": "markdown",
   "metadata": {},
   "source": [
    "### Train"
   ]
  },
  {
   "cell_type": "code",
   "execution_count": 26,
   "metadata": {},
   "outputs": [
    {
     "name": "stdout",
     "output_type": "stream",
     "text": [
      "25304 128\n",
      "Epoch 1/10\n",
      "1581/1581 [==============================] - 72s - loss: 0.0224 - acc: 0.9935 - val_loss: 0.0078 - val_acc: 0.9976\n",
      "Epoch 2/10\n",
      "1581/1581 [==============================] - 71s - loss: 0.0112 - acc: 0.9968 - val_loss: 0.0086 - val_acc: 0.9977\n",
      "Epoch 3/10\n",
      "1581/1581 [==============================] - 71s - loss: 0.0097 - acc: 0.9973 - val_loss: 0.0028 - val_acc: 0.9990\n",
      "Epoch 4/10\n",
      "1581/1581 [==============================] - 70s - loss: 0.0090 - acc: 0.9975 - val_loss: 0.0070 - val_acc: 0.9978\n",
      "Epoch 5/10\n",
      "1581/1581 [==============================] - 71s - loss: 0.0090 - acc: 0.9975 - val_loss: 0.0058 - val_acc: 0.9980\n",
      "Epoch 6/10\n",
      "1581/1581 [==============================] - 71s - loss: 0.0087 - acc: 0.9977 - val_loss: 0.0066 - val_acc: 0.9986\n",
      "Epoch 7/10\n",
      "1581/1581 [==============================] - 70s - loss: 0.0088 - acc: 0.9976 - val_loss: 0.0060 - val_acc: 0.9986\n",
      "Epoch 8/10\n",
      "1581/1581 [==============================] - 71s - loss: 0.0090 - acc: 0.9976 - val_loss: 0.0081 - val_acc: 0.9971\n",
      "Epoch 9/10\n",
      "1581/1581 [==============================] - 71s - loss: 0.0090 - acc: 0.9975 - val_loss: 0.0084 - val_acc: 0.9980\n",
      "Epoch 10/10\n",
      "1581/1581 [==============================] - 71s - loss: 0.0092 - acc: 0.9975 - val_loss: 0.0092 - val_acc: 0.9973\n"
     ]
    }
   ],
   "source": [
    "nb_train_samples = len(y_train)\n",
    "nb_validation_samples = len(y_validation)\n",
    "print(nb_train_samples, nb_validation_samples)\n",
    "\n",
    "history = model.fit_generator(\n",
    "    train_generator,\n",
    "    steps_per_epoch=nb_train_samples // batch_size,\n",
    "    epochs=epochs,\n",
    "    validation_data=validation_generator,\n",
    "    validation_steps=nb_validation_samples // batch_size)"
   ]
  },
  {
   "cell_type": "markdown",
   "metadata": {},
   "source": [
    "### Test prediction"
   ]
  },
  {
   "cell_type": "code",
   "execution_count": 28,
   "metadata": {
    "collapsed": true
   },
   "outputs": [],
   "source": [
    "test_paths = [test_data_dir+x for x in sorted(os.listdir(test_data_dir))]\n",
    "test_images = []\n",
    "for path in test_paths:\n",
    "    test_image = cv2.imread(path)\n",
    "    test_images.append(test_image)\n",
    "test_images = np.array(test_images)\n"
   ]
  },
  {
   "cell_type": "code",
   "execution_count": 29,
   "metadata": {},
   "outputs": [
    {
     "data": {
      "text/html": [
       "<div>\n",
       "<style>\n",
       "    .dataframe thead tr:only-child th {\n",
       "        text-align: right;\n",
       "    }\n",
       "\n",
       "    .dataframe thead th {\n",
       "        text-align: left;\n",
       "    }\n",
       "\n",
       "    .dataframe tbody tr th {\n",
       "        vertical-align: top;\n",
       "    }\n",
       "</style>\n",
       "<table border=\"1\" class=\"dataframe\">\n",
       "  <thead>\n",
       "    <tr style=\"text-align: right;\">\n",
       "      <th></th>\n",
       "      <th>class_number</th>\n",
       "    </tr>\n",
       "    <tr>\n",
       "      <th>filename</th>\n",
       "      <th></th>\n",
       "    </tr>\n",
       "  </thead>\n",
       "  <tbody>\n",
       "    <tr>\n",
       "      <th>000000.png</th>\n",
       "      <td>66</td>\n",
       "    </tr>\n",
       "    <tr>\n",
       "      <th>000001.png</th>\n",
       "      <td>66</td>\n",
       "    </tr>\n",
       "    <tr>\n",
       "      <th>000002.png</th>\n",
       "      <td>8</td>\n",
       "    </tr>\n",
       "    <tr>\n",
       "      <th>000003.png</th>\n",
       "      <td>8</td>\n",
       "    </tr>\n",
       "    <tr>\n",
       "      <th>000004.png</th>\n",
       "      <td>8</td>\n",
       "    </tr>\n",
       "  </tbody>\n",
       "</table>\n",
       "</div>"
      ],
      "text/plain": [
       "            class_number\n",
       "filename                \n",
       "000000.png            66\n",
       "000001.png            66\n",
       "000002.png             8\n",
       "000003.png             8\n",
       "000004.png             8"
      ]
     },
     "execution_count": 29,
     "metadata": {},
     "output_type": "execute_result"
    }
   ],
   "source": [
    "result = model.predict(test_images)\n",
    "answers = list(map(np.argmax, result))\n",
    "data = list(zip(sorted(os.listdir(test_data_dir)), answers))\n",
    "df_res = pd.DataFrame(data, columns=[\"filename\",\"class_number\"])\n",
    "df_res = df_res.set_index('filename')\n",
    "\n",
    "df_res.to_csv(\"1_neural.csv\")\n",
    "df_res.head()"
   ]
  },
  {
   "cell_type": "markdown",
   "metadata": {},
   "source": [
    "### Results"
   ]
  },
  {
   "cell_type": "code",
   "execution_count": 30,
   "metadata": {
    "collapsed": true
   },
   "outputs": [],
   "source": [
    "def show(img):\n",
    "    ax = plt.axes([0,0,1,1], frameon=False)\n",
    "    ax.set_axis_off()\n",
    "    plt.imshow(cv2.cvtColor(img, cv2.COLOR_BGR2RGB))"
   ]
  },
  {
   "cell_type": "code",
   "execution_count": 40,
   "metadata": {
    "collapsed": true
   },
   "outputs": [],
   "source": [
    "i = 1"
   ]
  },
  {
   "cell_type": "code",
   "execution_count": 41,
   "metadata": {},
   "outputs": [
    {
     "data": {
      "image/png": "[encoded data removed]",
      "text/plain": [
       "<matplotlib.figure.Figure at 0x7f1164615780>"
      ]
     },
     "metadata": {},
     "output_type": "display_data"
    }
   ],
   "source": [
    "names_train = list(df[df[\"class_number\"] == i].head(20).index)\n",
    "imgs = [cv2.imread(train_data_dir+name) for name in names_train]\n",
    "\n",
    "img_stacked = np.hstack(imgs)\n",
    "show(img_stacked)   "
   ]
  },
  {
   "cell_type": "code",
   "execution_count": 42,
   "metadata": {},
   "outputs": [
    {
     "data": {
      "image/png": "[encoded data removed]",
      "text/plain": [
       "<matplotlib.figure.Figure at 0x7f1162e71c50>"
      ]
     },
     "metadata": {},
     "output_type": "display_data"
    }
   ],
   "source": [
    "names_test = list(df_res[df_res[\"class_number\"] == i].head(20).index)\n",
    "imgs = [cv2.imread(test_data_dir+name) for name in names_test]\n",
    "\n",
    "img_stacked = np.hstack(imgs)\n",
    "show(img_stacked)"
   ]
  },
  {
   "cell_type": "code",
   "execution_count": null,
   "metadata": {
    "collapsed": true
   },
   "outputs": [],
   "source": []
  }
 ],
 "metadata": {
  "kernelspec": {
   "display_name": "Python 3",
   "language": "python",
   "name": "python3"
  },
  "language_info": {
   "codemirror_mode": {
    "name": "ipython",
    "version": 3
   },
   "file_extension": ".py",
   "mimetype": "text/x-python",
   "name": "python",
   "nbconvert_exporter": "python",
   "pygments_lexer": "ipython3",
   "version": "3.6.3"
  }
 },
 "nbformat": 4,
 "nbformat_minor": 2
}
