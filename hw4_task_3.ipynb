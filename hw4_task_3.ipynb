{
 "cells": [
  {
   "cell_type": "code",
   "execution_count": 1,
   "metadata": {
    "collapsed": true
   },
   "outputs": [],
   "source": [
    "import numpy as np\n",
    "import os\n",
    "import cv2\n",
    "from itertools import combinations\n",
    "import matplotlib.pylab as plt\n",
    "from scipy.spatial.distance import euclidean\n",
    "%matplotlib inline\n",
    "\n",
    "def show(img):\n",
    "    ax = plt.axes([0,0,1,1], frameon=False)\n",
    "    ax.set_axis_off()\n",
    "    plt.imshow(cv2.cvtColor(img, cv2.COLOR_BGR2RGB))\n",
    "    \n",
    "def show_gray(img):\n",
    "    ax = plt.axes([0,0,1,1], frameon=False)\n",
    "    ax.set_axis_off()\n",
    "    plt.imshow(img, cmap=\"gray\")"
   ]
  },
  {
   "cell_type": "code",
   "execution_count": 2,
   "metadata": {
    "collapsed": true
   },
   "outputs": [],
   "source": [
    "def separate_plots(img): # возвращает список графиков\n",
    "    colors = cv2.split(img)\n",
    "    color_pairs = combinations(colors, 2)\n",
    "    plots = [x[0]|x[1] for x in color_pairs]\n",
    "    plots = [cv2.threshold(x, thresh=90, maxval=255, type=cv2.THRESH_BINARY_INV)[1] for x in plots]\n",
    "    return plots"
   ]
  },
  {
   "cell_type": "code",
   "execution_count": 3,
   "metadata": {},
   "outputs": [
    {
     "data": {
      "image/png": "[encoded data removed]",
      "text/plain": [
       "<matplotlib.figure.Figure at 0x7f100015fbe0>"
      ]
     },
     "metadata": {},
     "output_type": "display_data"
    }
   ],
   "source": [
    "# пример работы\n",
    "img = cv2.imread(\"plots/20/10.png\")\n",
    "plots = separate_plots(img)\n",
    "plt.figure(figsize=(20, 20))\n",
    "show_gray(np.hstack(plots))"
   ]
  },
  {
   "cell_type": "code",
   "execution_count": 4,
   "metadata": {},
   "outputs": [
    {
     "name": "stdout",
     "output_type": "stream",
     "text": [
      "(249, 328)\n"
     ]
    },
    {
     "data": {
      "image/png": "[encoded data removed]",
      "text/plain": [
       "<matplotlib.figure.Figure at 0x7f0fcc5ebc88>"
      ]
     },
     "metadata": {},
     "output_type": "display_data"
    }
   ],
   "source": [
    "def detect_center(img): # координаты центра меняются по y\n",
    "    img_copy = img.copy()\n",
    "    center_img = img_copy[img.shape[0] // 2 - 5:img.shape[0] // 2 + 20, img.shape[1] // 2:img.shape[1] // 2 + 20]\n",
    "    for i in range(center_img.shape[0]):\n",
    "        for j in range(center_img.shape[1]):\n",
    "            if np.any(center_img[i][j] != [180, 119, 31]):\n",
    "                center_img[i][j] = [0, 0, 0]\n",
    "    y = img.shape[0] // 2 - 5 + (max(center_img.nonzero()[0]) + min(center_img.nonzero()[0])) // 2\n",
    "    x = img.shape[1] // 2 + (max(center_img.nonzero()[1]) + min(center_img.nonzero()[1])) // 2\n",
    "    return y, x\n",
    "\n",
    "# найдем координаты отрезка и значения коэффициентов для нормализации\n",
    "img = cv2.imread(\"plots/20/6.png\")\n",
    "center = detect_center(img)\n",
    "img = 255 - img\n",
    "plt.figure(figsize=(20, 30))\n",
    "print(center)\n",
    "y_norm = img.shape[0]-center[0]-69 # столько пикселей в отрезке длины 1 по y\n",
    "x_norm = 24 # 24 пикселя в отрезке длины 1 по x\n",
    "y = img.shape[0]-70\n",
    "x = 328 # начало координат\n",
    "img[y][x] = [255,255,255]\n",
    "img[y][x+23] = [255,255,255]\n",
    "show(img[-71:-68,327:-287])"
   ]
  },
  {
   "cell_type": "code",
   "execution_count": 5,
   "metadata": {
    "collapsed": true
   },
   "outputs": [],
   "source": [
    "import numpy as np\n",
    "from scipy.optimize import curve_fit\n",
    "\n",
    "def norm_coordinates(xs, ys, center, plot):\n",
    "    y_norm = plot.shape[0] - center[0] - 69\n",
    "    ys_norm = (center[0] - ys) / y_norm\n",
    "    xs_norm = (xs - center[1]) / 24\n",
    "    return ys_norm, xs_norm\n",
    "\n",
    "def get_params_for_parabola(plot, center):\n",
    "    ys, xs = plot.nonzero()\n",
    "    ys_norm, xs_norm = norm_coordinates(xs, ys, center, plot)\n",
    "    func = lambda x, c, d, e: c * x * x + d * x + e\n",
    "    params = curve_fit(func, xs_norm, ys_norm)[0]\n",
    "    return params\n",
    "\n",
    "def get_params_for_line(plot, center):\n",
    "    ys, xs = plot.nonzero()\n",
    "    ys_norm, xs_norm = norm_coordinates(xs, ys, center, plot)\n",
    "    func = lambda x, f, g: f * x + g\n",
    "    params = curve_fit(func, xs_norm, ys_norm)[0]\n",
    "    return params\n",
    "\n",
    "def get_params_for_sin(plot, center):\n",
    "    ys, xs = plot.nonzero()\n",
    "    func = lambda x, a, b: np.sin(a * x + b)\n",
    "\n",
    "    points = sorted(list(zip(ys, xs)), key=lambda x: x[1])\n",
    "    points_without_duplicates = [points[0]]\n",
    "    for point in points:\n",
    "        if point[1] != points_without_duplicates[-1][1]:\n",
    "            points_without_duplicates.append(point)\n",
    "    ys_rare, xs_rare = zip(*points_without_duplicates)\n",
    "    ys_rare_norm, xs_rare_norm = norm_coordinates(xs_rare, ys_rare, center, plot)\n",
    "\n",
    "    fourier = np.fft.rfft(ys_rare_norm)\n",
    "    i = np.argmax(abs(fourier))\n",
    "    step = (xs_rare_norm[1] - xs_rare_norm[0]) / (2 * np.pi)\n",
    "    guess_f = np.fft.rfftfreq(len(xs_rare_norm), step)[i]\n",
    "\n",
    "    params = curve_fit(func, xs_rare_norm, ys_rare_norm, p0=[guess_f, 1])[0]\n",
    "    return params\n",
    "\n",
    "def get_params(plots, center):\n",
    "    i = np.argmax([len(plot.nonzero()[0]) for plot in plots])\n",
    "    a, b = get_params_for_sin(plots[i], center)\n",
    "    plots.pop(i)\n",
    "    j = np.argmin([max(plot.nonzero()[0]) - min(plot.nonzero()[0]) for plot in plots])\n",
    "    c, d, e = get_params_for_parabola(plots[j], center)\n",
    "    plots.pop(j)\n",
    "    f, g = get_params_for_line(plots[0], center)\n",
    "    return a, b, c, d, e, f, g"
   ]
  },
  {
   "cell_type": "code",
   "execution_count": 6,
   "metadata": {},
   "outputs": [],
   "source": [
    "my_dir = \"plots/20/\"\n",
    "with open('my_par.txt', 'a') as file:\n",
    "    print('pic,a,b,c,d,e,f,g', file=file)\n",
    "for i in range(13):\n",
    "    img = cv2.imread(my_dir + str(i) + '.png')\n",
    "    center = detect_center(img)\n",
    "    plots = separate_plots(img)\n",
    "    a, b, c, d, e, f, g = get_params(plots, center)\n",
    "    with open('my_par.txt', 'a') as file:\n",
    "        print(i, a, b, c, d, e, f, g, sep=',', file=file)"
   ]
  },
  {
   "cell_type": "code",
   "execution_count": null,
   "metadata": {
    "collapsed": true
   },
   "outputs": [],
   "source": []
  }
 ],
 "metadata": {
  "kernelspec": {
   "display_name": "Python 3",
   "language": "python",
   "name": "python3"
  },
  "language_info": {
   "codemirror_mode": {
    "name": "ipython",
    "version": 3
   },
   "file_extension": ".py",
   "mimetype": "text/x-python",
   "name": "python",
   "nbconvert_exporter": "python",
   "pygments_lexer": "ipython3",
   "version": "3.6.1"
  }
 },
 "nbformat": 4,
 "nbformat_minor": 2
}
